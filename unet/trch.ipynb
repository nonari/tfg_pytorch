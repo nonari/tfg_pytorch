{
 "cells": [
  {
   "cell_type": "code",
   "execution_count": 1,
   "metadata": {
    "collapsed": true
   },
   "outputs": [],
   "source": [
    "import re\n",
    "from glob import glob\n",
    "from os import path\n",
    "import numpy as np"
   ]
  },
  {
   "cell_type": "code",
   "execution_count": 2,
   "outputs": [],
   "source": [
    "LINE_ALL = re.compile(r'.*Patient ALL.*')\n",
    "\n"
   ],
   "metadata": {
    "collapsed": false,
    "pycharm": {
     "name": "#%%\n"
    }
   }
  },
  {
   "cell_type": "code",
   "execution_count": 3,
   "outputs": [],
   "source": [
    "def get_table(filename):\n",
    "    file = open(filename, 'r')\n",
    "    for line in file:\n",
    "        result = LINE_ALL.match(line)\n",
    "        if result is not None:\n",
    "            file.__next__()\n",
    "            break\n",
    "\n",
    "    table = []\n",
    "    for idx, line in enumerate(file):\n",
    "        if idx > 9:\n",
    "            break\n",
    "        line  = re.sub(' +', ' ', line)\n",
    "        values = line.split(' ')\n",
    "        values.__delitem__(0)\n",
    "        if len(values) > 6:\n",
    "            values.__delitem__(-1)\n",
    "        values = list(map(lambda x: float(x), values))\n",
    "        table.append(values)\n",
    "\n",
    "    return table\n"
   ],
   "metadata": {
    "collapsed": false,
    "pycharm": {
     "name": "#%%\n"
    }
   }
  },
  {
   "cell_type": "code",
   "execution_count": 4,
   "outputs": [],
   "source": [
    "tables = []\n",
    "dirs = glob('/home/nonari/Documentos/test_results/*')\n",
    "for d in dirs:\n",
    "    filepath = path.join(d, 'results.txt')\n",
    "    table = get_table(filepath)\n",
    "    table = np.array(table)\n",
    "    tables.append(table)\n",
    "\n",
    "data = np.dstack(tuple(tables))\n",
    "maxims = np.argmax(data, axis=2)\n",
    "minims = np.argmin(data, axis=2)\n"
   ],
   "metadata": {
    "collapsed": false,
    "pycharm": {
     "name": "#%%\n"
    }
   }
  },
  {
   "cell_type": "code",
   "execution_count": 7,
   "outputs": [
    {
     "ename": "ValueError",
     "evalue": "object too deep for desired array",
     "output_type": "error",
     "traceback": [
      "\u001B[0;31m---------------------------------------------------------------------------\u001B[0m",
      "\u001B[0;31mValueError\u001B[0m                                Traceback (most recent call last)",
      "\u001B[0;32m<ipython-input-7-7e9135a9e8da>\u001B[0m in \u001B[0;36m<module>\u001B[0;34m\u001B[0m\n\u001B[0;32m----> 1\u001B[0;31m \u001B[0mwin_max\u001B[0m \u001B[0;34m=\u001B[0m \u001B[0mnp\u001B[0m\u001B[0;34m.\u001B[0m\u001B[0mbincount\u001B[0m\u001B[0;34m(\u001B[0m\u001B[0mmaxims\u001B[0m\u001B[0;34m)\u001B[0m\u001B[0;34m\u001B[0m\u001B[0;34m\u001B[0m\u001B[0m\n\u001B[0m",
      "\u001B[0;32m<__array_function__ internals>\u001B[0m in \u001B[0;36mbincount\u001B[0;34m(*args, **kwargs)\u001B[0m\n",
      "\u001B[0;31mValueError\u001B[0m: object too deep for desired array"
     ]
    }
   ],
   "source": [],
   "metadata": {
    "collapsed": false,
    "pycharm": {
     "name": "#%%\n"
    }
   }
  }
 ],
 "metadata": {
  "kernelspec": {
   "display_name": "Python 3",
   "language": "python",
   "name": "python3"
  },
  "language_info": {
   "codemirror_mode": {
    "name": "ipython",
    "version": 2
   },
   "file_extension": ".py",
   "mimetype": "text/x-python",
   "name": "python",
   "nbconvert_exporter": "python",
   "pygments_lexer": "ipython2",
   "version": "2.7.6"
  }
 },
 "nbformat": 4,
 "nbformat_minor": 0
}