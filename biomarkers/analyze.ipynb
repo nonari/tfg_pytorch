{
 "cells": [
  {
   "cell_type": "code",
   "execution_count": 17,
   "metadata": {
    "collapsed": true
   },
   "outputs": [],
   "source": [
    "import numpy as np\n",
    "import cv2 as cv\n",
    "from matplotlib import pyplot as plt\n"
   ]
  },
  {
   "cell_type": "code",
   "execution_count": 34,
   "outputs": [
    {
     "data": {
      "text/plain": "<Figure size 432x288 with 1 Axes>",
      "image/png": "[encoded data removed]"
     },
     "metadata": {
      "needs_background": "light"
     },
     "output_type": "display_data"
    }
   ],
   "source": [
    "imfile = \"/home/nonari/Documentos/test_results/resnet34_cp_sa/seg_9_32.png\"\n",
    "im = cv.imread(imfile, cv.IMREAD_GRAYSCALE)\n",
    "plt.imshow(im)\n",
    "plt.show()"
   ],
   "metadata": {
    "collapsed": false,
    "pycharm": {
     "name": "#%%\n"
    }
   }
  },
  {
   "cell_type": "code",
   "execution_count": 35,
   "outputs": [],
   "source": [
    "def rearrange_mask(mask):\n",
    "    sparse_labels = np.unique(mask)\n",
    "    for idx, l in enumerate(sparse_labels):\n",
    "        mask[mask == l] = idx + 1"
   ],
   "metadata": {
    "collapsed": false,
    "pycharm": {
     "name": "#%%\n"
    }
   }
  },
  {
   "cell_type": "code",
   "execution_count": 36,
   "outputs": [],
   "source": [
    "rearrange_mask(im)\n"
   ],
   "metadata": {
    "collapsed": false,
    "pycharm": {
     "name": "#%%\n"
    }
   }
  },
  {
   "cell_type": "code",
   "execution_count": 37,
   "outputs": [],
   "source": [
    "im[im != 10] = 0\n",
    "im[im == 10] = 1"
   ],
   "metadata": {
    "collapsed": false,
    "pycharm": {
     "name": "#%%\n"
    }
   }
  },
  {
   "cell_type": "code",
   "execution_count": 22,
   "outputs": [],
   "source": [
    "stats = cv.connectedComponentsWithStats(im)\n",
    "areas = stats[2][1:, 4]\n",
    "total_count = len(areas)"
   ],
   "metadata": {
    "collapsed": false,
    "pycharm": {
     "name": "#%%\n"
    }
   }
  },
  {
   "cell_type": "code",
   "execution_count": 39,
   "outputs": [],
   "source": [
    "sep = [0, 0.2, 0.4, 0.6, 0.8, 1]\n",
    "centroids = stats[3][1:,0]\n",
    "\n",
    "x, y = im.shape\n",
    "areas_zone = []\n",
    "count_zone = []\n",
    "for i in range(5):\n",
    "    p1, p2 = sep[i], sep[i+1]\n",
    "    ini, fin = int(p1 * x), int(p2 * x)\n",
    "    area = (im[:, ini:fin] == 1).sum()\n",
    "    areas_zone.append(area)\n",
    "    count_l = ini < centroids\n",
    "    count_g = fin > centroids\n",
    "    count = np.logical_and(count_l, count_g).sum()\n",
    "    count_zone.append(count)"
   ],
   "metadata": {
    "collapsed": false,
    "pycharm": {
     "name": "#%%\n"
    }
   }
  },
  {
   "cell_type": "code",
   "execution_count": 40,
   "outputs": [],
   "source": [
    "conts, hier = cv.findContours(im, cv.RETR_LIST, cv.CHAIN_APPROX_SIMPLE)\n",
    "\n",
    "measure_by_cist = {}\n",
    "for c in conts:\n",
    "    _, _, w, h = cv.boundingRect(c)\n",
    "    x, y = c[0,0]\n",
    "    idx = stats[1][y, x]\n",
    "    measure_by_cist[idx] = (w, h)\n",
    "#cv.drawContours(im, conts, -1, 2)"
   ],
   "metadata": {
    "collapsed": false,
    "pycharm": {
     "name": "#%%\n"
    }
   }
  }
 ],
 "metadata": {
  "kernelspec": {
   "display_name": "Python 3",
   "language": "python",
   "name": "python3"
  },
  "language_info": {
   "codemirror_mode": {
    "name": "ipython",
    "version": 2
   },
   "file_extension": ".py",
   "mimetype": "text/x-python",
   "name": "python",
   "nbconvert_exporter": "python",
   "pygments_lexer": "ipython2",
   "version": "2.7.6"
  }
 },
 "nbformat": 4,
 "nbformat_minor": 0
}