{
 "cells": [
  {
   "cell_type": "code",
   "execution_count": 15,
   "metadata": {
    "collapsed": true
   },
   "outputs": [],
   "source": [
    "import numpy as np\n",
    "import cv2 as cv\n",
    "from matplotlib import pyplot as plt"
   ]
  },
  {
   "cell_type": "code",
   "execution_count": 16,
   "outputs": [
    {
     "data": {
      "text/plain": "<Figure size 432x288 with 1 Axes>",
      "image/png": "[encoded data removed]"
     },
     "metadata": {
      "needs_background": "light"
     },
     "output_type": "display_data"
    }
   ],
   "source": [
    "imfile = \"/home/nonari/Documentos/test_results/resnet34_cp_sa/seg_0_40.png\"\n",
    "im = cv.imread(imfile, cv.IMREAD_GRAYSCALE)\n",
    "plt.imshow(im)\n",
    "plt.show()"
   ],
   "metadata": {
    "collapsed": false,
    "pycharm": {
     "name": "#%%\n"
    }
   }
  },
  {
   "cell_type": "code",
   "execution_count": 17,
   "outputs": [],
   "source": [
    "def rearrange_mask(mask):\n",
    "    sparse_labels = np.unique(mask)\n",
    "    for idx, l in enumerate(sparse_labels):\n",
    "        mask[mask == l] = idx + 1\n"
   ],
   "metadata": {
    "collapsed": false,
    "pycharm": {
     "name": "#%%\n"
    }
   }
  },
  {
   "cell_type": "code",
   "execution_count": 18,
   "outputs": [],
   "source": [
    "rearrange_mask(im)"
   ],
   "metadata": {
    "collapsed": false,
    "pycharm": {
     "name": "#%%\n"
    }
   }
  },
  {
   "cell_type": "code",
   "execution_count": 19,
   "outputs": [],
   "source": [
    "im[im != 1] = 0\n"
   ],
   "metadata": {
    "collapsed": false,
    "pycharm": {
     "name": "#%%\n"
    }
   }
  },
  {
   "cell_type": "code",
   "execution_count": 20,
   "outputs": [],
   "source": [
    "stats = cv.connectedComponentsWithStats(im, connectivity=8)\n",
    "vols = stats[2][1:,1]\n",
    "obj_idx = np.argmin(vols) + 1\n",
    "res = stats[1]\n",
    "res[res != obj_idx] = 0\n",
    "res = res.astype(np.uint8)"
   ],
   "metadata": {
    "collapsed": false,
    "pycharm": {
     "name": "#%%\n"
    }
   }
  },
  {
   "cell_type": "code",
   "execution_count": 21,
   "outputs": [
    {
     "data": {
      "text/plain": "array([[0., 1., 1., ..., 1., 1., 1.],\n       [1., 1., 1., ..., 1., 1., 1.],\n       [1., 1., 1., ..., 1., 1., 1.],\n       ...,\n       [0., 0., 0., ..., 0., 0., 0.],\n       [0., 0., 0., ..., 0., 0., 0.],\n       [0., 0., 0., ..., 0., 0., 0.]])"
     },
     "execution_count": 21,
     "metadata": {},
     "output_type": "execute_result"
    }
   ],
   "source": [
    "conts, hier = cv.findContours(res, cv.RETR_LIST, cv.CHAIN_APPROX_SIMPLE)\n",
    "filled_gaps = np.zeros(im.shape)\n",
    "cv.drawContours(filled_gaps, conts, -1, 1, thickness=cv.FILLED)\n"
   ],
   "metadata": {
    "collapsed": false,
    "pycharm": {
     "name": "#%%\n"
    }
   }
  },
  {
   "cell_type": "code",
   "execution_count": null,
   "outputs": [],
   "source": [
    "def fill_gaps(im, layer):\n",
    "    mask = im.copy()\n",
    "    mask[mask != layer] = 0\n",
    "    stats = cv.connectedComponentsWithStats(im, connectivity=8)\n",
    "    vols = stats[2][1:,1]\n",
    "    obj_idx = np.argmin(vols) + 1\n",
    "    res = stats[1]\n",
    "    res[res != obj_idx] = 0\n",
    "    res = res.astype(np.uint8)\n",
    "    conts, hier = cv.findContours(res, cv.RETR_LIST, cv.CHAIN_APPROX_SIMPLE)\n",
    "    filled_gaps = np.zeros(im.shape)\n",
    "    cv.drawContours(filled_gaps, conts, -1, 1, thickness=cv.FILLED)\n",
    "    im[filled_gaps == 1] = layer"
   ],
   "metadata": {
    "collapsed": false,
    "pycharm": {
     "name": "#%%\n"
    }
   }
  }
 ],
 "metadata": {
  "kernelspec": {
   "display_name": "Python 3",
   "language": "python",
   "name": "python3"
  },
  "language_info": {
   "codemirror_mode": {
    "name": "ipython",
    "version": 2
   },
   "file_extension": ".py",
   "mimetype": "text/x-python",
   "name": "python",
   "nbconvert_exporter": "python",
   "pygments_lexer": "ipython2",
   "version": "2.7.6"
  }
 },
 "nbformat": 4,
 "nbformat_minor": 0
}